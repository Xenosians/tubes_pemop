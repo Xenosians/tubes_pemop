{
  "nbformat": 4,
  "nbformat_minor": 0,
  "metadata": {
    "colab": {
      "private_outputs": true,
      "provenance": [],
      "authorship_tag": "ABX9TyMKFh+DgxR0B2h9tI75ssD0",
      "include_colab_link": true
    },
    "kernelspec": {
      "name": "python3",
      "display_name": "Python 3"
    },
    "language_info": {
      "name": "python"
    }
  },
  "cells": [
    {
      "cell_type": "markdown",
      "metadata": {
        "id": "view-in-github",
        "colab_type": "text"
      },
      "source": [
        "<a href=\"https://colab.research.google.com/github/Xenosians/tubes_pemop/blob/main/Tubes_Pemop.ipynb\" target=\"_parent\"><img src=\"https://colab.research.google.com/assets/colab-badge.svg\" alt=\"Open In Colab\"/></a>"
      ]
    },
    {
      "cell_type": "code",
      "execution_count": null,
      "metadata": {
        "id": "1Is3uffBPxf9"
      },
      "outputs": [],
      "source": [
        "import pandas as pd\n",
        "import numpy as np\n",
        "import matplotlib.pyplot as plt\n",
        "from sklearn.model_selection import train_test_split, GridSearchCV\n",
        "from sklearn.preprocessing import StandardScaler\n",
        "from sklearn.linear_model import LogisticRegression\n",
        "from sklearn.linear_model import ElasticNet\n",
        "from sklearn.svm import SVC\n",
        "from sklearn.metrics import accuracy_score, f1_score\n",
        "from sklearn.metrics import mean_squared_error"
      ]
    },
    {
      "cell_type": "code",
      "source": [
        "file_path = '/content/DataClassification.txt'\n",
        "df = pd.read_csv(file_path, sep='\\t')\n",
        "\n",
        "# df['x'] = np.where(df['x'] < 0, 0, df['x'])\n",
        "# df['Y'] = np.where(df['Y'] < 0, 0, df['Y'])\n",
        "\n",
        "X = df[['x', 'Y']]\n",
        "y = df['LABEL']\n",
        "\n",
        "X_train, X_test, y_train, y_test = train_test_split(X, y, test_size=0.2, random_state=42)\n",
        "\n",
        "scaler = StandardScaler()\n",
        "X_train = scaler.fit_transform(X_train)\n",
        "X_test = scaler.transform(X_test)"
      ],
      "metadata": {
        "id": "Ia7Ep3QG5HMu"
      },
      "execution_count": null,
      "outputs": []
    },
    {
      "cell_type": "code",
      "source": [
        "svm_model = SVC()\n",
        "\n",
        "param_grid = {\n",
        "    'C': [0.1, 1, 10, 100, 1000],\n",
        "    'kernel': ['linear', 'rbf', 'poly', 'sigmoid'],\n",
        "    'gamma': ['scale', 'auto', 0.1, 1, 10],\n",
        "}\n",
        "\n",
        "grid_search = GridSearchCV(svm_model, param_grid, cv=5, scoring='accuracy')\n",
        "grid_search.fit(X_train, y_train)\n",
        "\n",
        "best_params = grid_search.best_params_\n",
        "\n",
        "best_model = SVC(**best_params)\n",
        "best_model.fit(X_train, y_train)\n",
        "\n",
        "y_pred = best_model.predict(X_test)"
      ],
      "metadata": {
        "id": "5x4PPxL15OKb"
      },
      "execution_count": null,
      "outputs": []
    },
    {
      "cell_type": "code",
      "source": [
        "plt.figure(figsize=(12, 8))\n",
        "\n",
        "plt.scatter(X['x'][y == 1], X['Y'][y == 1], c='red', marker='^', label='Tipe A')\n",
        "plt.scatter(X['x'][y == 2], X['Y'][y == 2], c='blue', marker='o', label='Tipe B')\n",
        "\n",
        "ax = plt.gca()\n",
        "xlim = ax.get_xlim()\n",
        "ylim = ax.get_ylim()\n",
        "xx, yy = np.meshgrid(np.linspace(xlim[0], xlim[1], 50), np.linspace(ylim[0], ylim[1], 50))\n",
        "Z = best_model.decision_function(np.c_[xx.ravel(), yy.ravel()])\n",
        "Z = Z.reshape(xx.shape)\n",
        "contour = ax.contour(xx, yy, Z, colors='k', levels=[-1, 0, 1], alpha=0.5, linestyles=['--', '-', '--'])\n",
        "\n",
        "plt.xlabel('x')\n",
        "plt.ylabel('Y')\n",
        "plt.title('Support Vector Machine (SVM) - Decision Boundary')\n",
        "\n",
        "plt.legend(['Tipe A', 'Tipe B', 'Decision Boundary'])\n",
        "\n",
        "plt.subplots_adjust(bottom=0.2)\n",
        "\n",
        "table_data = [['Metric', 'Value'],\n",
        "              ['Accuracy', f'{accuracy_score(y_test, y_pred):.2f}'],\n",
        "              ['F1 Score', f'{f1_score(y_test, y_pred, average=\"weighted\"):.2f}']]\n",
        "table = plt.table(cellText=table_data, loc='right', cellLoc='center', colWidths=[0.1, 0.1])\n",
        "table.auto_set_font_size(False)\n",
        "table.set_fontsize(10)\n",
        "table.scale(1, 1.5)\n",
        "\n",
        "plt.show()"
      ],
      "metadata": {
        "id": "CvSc7klI5VFO"
      },
      "execution_count": null,
      "outputs": []
    },
    {
      "cell_type": "code",
      "source": [
        "logreg_model = LogisticRegression()\n",
        "logreg_model.fit(X_train, y_train)\n",
        "\n",
        "y_pred = logreg_model.predict(X_test)"
      ],
      "metadata": {
        "id": "vD4xrUIKmL92"
      },
      "execution_count": null,
      "outputs": []
    },
    {
      "cell_type": "code",
      "source": [
        "plt.figure(figsize=(12, 8))\n",
        "\n",
        "plt.scatter(X['x'][y == 1], X['Y'][y == 1], c='red', marker='^', label='Tipe A')\n",
        "plt.scatter(X['x'][y == 2], X['Y'][y == 2], c='blue', marker='o', label='Tipe B')\n",
        "\n",
        "ax = plt.gca()\n",
        "xlim = ax.get_xlim()\n",
        "ylim = ax.get_ylim()\n",
        "xx, yy = np.meshgrid(np.linspace(xlim[0], xlim[1], 50), np.linspace(ylim[0], ylim[1], 50))\n",
        "Z = logreg_model.decision_function(np.c_[xx.ravel(), yy.ravel()])\n",
        "Z = Z.reshape(xx.shape)\n",
        "contour = ax.contour(xx, yy, Z, colors='k', levels=[0], alpha=0.5, linestyles=['-'])\n",
        "\n",
        "plt.xlabel('x')\n",
        "plt.ylabel('Y')\n",
        "plt.title('Logistic Regression - Decision Boundary')\n",
        "\n",
        "plt.legend(['Tipe A', 'Tipe B', 'Decision Boundary'])\n",
        "\n",
        "plt.subplots_adjust(bottom=0.2)\n",
        "\n",
        "accuracy = accuracy_score(y_test, y_pred)\n",
        "f1 = f1_score(y_test, y_pred, average='weighted')\n",
        "\n",
        "table_data = [['Metric', 'Value'],\n",
        "              ['Accuracy', f'{accuracy:.2f}'],\n",
        "              ['F1 Score', f'{f1:.2f}']]\n",
        "table = plt.table(cellText=table_data, loc='right', cellLoc='center', colWidths=[0.1, 0.1])\n",
        "table.auto_set_font_size(False)\n",
        "table.set_fontsize(10)\n",
        "table.scale(1, 1.5)\n",
        "\n",
        "plt.show()"
      ],
      "metadata": {
        "id": "V3sX4YNEm-UE"
      },
      "execution_count": null,
      "outputs": []
    },
    {
      "cell_type": "code",
      "source": [
        "param_grid_elastic_net = {\n",
        "    'alpha': [1.0, 0.5, 2],\n",
        "    'l1_ratio': [0.001, 0.01, 0.1],\n",
        "}\n",
        "\n",
        "grid_search_elastic_net = GridSearchCV(ElasticNet(), param_grid_elastic_net, cv=5, scoring='neg_mean_squared_error')\n",
        "grid_search_elastic_net.fit(X_train, y_train)\n",
        "\n",
        "best_params_elastic_net = grid_search_elastic_net.best_params_\n",
        "\n",
        "best_model_elastic_net = ElasticNet(**best_params_elastic_net)\n",
        "best_model_elastic_net.fit(X_train, y_train)\n",
        "\n",
        "y_pred_elastic_net = best_model_elastic_net.predict(X_test)\n",
        "\n",
        "mse_elastic_net = mean_squared_error(y_test, y_pred_elastic_net)"
      ],
      "metadata": {
        "id": "1OMby4Uonu8t"
      },
      "execution_count": null,
      "outputs": []
    },
    {
      "cell_type": "code",
      "source": [
        "plt.figure(figsize=(12, 8))\n",
        "\n",
        "plt.scatter(X['x'][y == 1], X['Y'][y == 1], c='red', marker='^', label='Tipe A')\n",
        "plt.scatter(X['x'][y == 2], X['Y'][y == 2], c='blue', marker='o', label='Tipe B')\n",
        "\n",
        "plt.xlabel('x')\n",
        "plt.ylabel('Y')\n",
        "plt.title('Elastic Net Regression')\n",
        "\n",
        "plt.legend(['Tipe A', 'Tipe B'])\n",
        "\n",
        "plt.axhline(y=mse_elastic_net, color='black', linestyle='--', label=f'MSE: {mse_elastic_net:.2f}')\n",
        "\n",
        "plt.subplots_adjust(bottom=0.2)\n",
        "\n",
        "table_data = [['Metric', 'Value'],\n",
        "              ['MSE', f'{mse_elastic_net:.2f}']]\n",
        "table = plt.table(cellText=table_data, loc='right', cellLoc='center', colWidths=[0.1, 0.1])\n",
        "table.auto_set_font_size(False)\n",
        "table.set_fontsize(10)\n",
        "table.scale(1, 1.5)\n",
        "\n",
        "plt.show()"
      ],
      "metadata": {
        "id": "EQuW2w8VoFH7"
      },
      "execution_count": null,
      "outputs": []
    }
  ]
}